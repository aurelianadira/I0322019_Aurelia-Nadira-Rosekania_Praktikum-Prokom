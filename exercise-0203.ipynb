{
 "cells": [
  {
   "cell_type": "code",
   "execution_count": 1,
   "metadata": {},
   "outputs": [
    {
     "name": "stdout",
     "output_type": "stream",
     "text": [
      "aurel\n",
      "I0322019\n",
      "A\n"
     ]
    }
   ],
   "source": [
    "print(input(\"Nama: \"))\n",
    "print(input(\"NIM: \"))\n",
    "print(input(\"Kelas: \"))"
   ]
  },
  {
   "attachments": {},
   "cell_type": "markdown",
   "metadata": {},
   "source": [
    "## 1."
   ]
  },
  {
   "attachments": {},
   "cell_type": "markdown",
   "metadata": {},
   "source": [
    "buatlah program sederhana untuk menghitung umur pengguna dengan ketentuan sebagai berikut :\n",
    "* Program meminta pengguna memasukan tanggal, bulan, dan tahun lahir\n",
    "* Program menghitung umur pengguna hingga tanggal 1 januari 2023\n",
    "* Program menampilkan umur dari pengguna"
   ]
  },
  {
   "cell_type": "code",
   "execution_count": 14,
   "metadata": {},
   "outputs": [
    {
     "name": "stdout",
     "output_type": "stream",
     "text": [
      "aurel\n",
      "umur pengguna sekarang adalah  18 tahun lamanya\n"
     ]
    }
   ],
   "source": [
    "tanggal = int(input(\"pengguna masukkan tanggal \"))\n",
    "bulan = int(input(\"pengguna masukkan bulan \"))\n",
    "tahun = int(input(\"pengguna masukkan tahun \"))\n",
    "\n",
    "from datetime import date\n",
    "tanggal_lahir = date(tahun, bulan, tanggal)\n",
    "tanggal_maksimal = date(2023,1,1)\n",
    "\n",
    "umur_pengguna = (tanggal_maksimal - tanggal_lahir).days\n",
    "print(input(\"Nama: \"))\n",
    "print(\"umur pengguna sekarang adalah \", umur_pengguna//365,\"tahun lamanya\")"
   ]
  },
  {
   "attachments": {},
   "cell_type": "markdown",
   "metadata": {},
   "source": [
    "## 2."
   ]
  },
  {
   "attachments": {},
   "cell_type": "markdown",
   "metadata": {},
   "source": [
    "Pada 2015, wabah flu burung menyerang Indonesia dan beberapa peternak ayam mengalami kerugian karena banyaknya ayam yang mati. Setiap bulan, jumlah ayamnya berkurang menjadi setengah. Setelah dua bulan, jumlah ayam yang tersisa adalah 200 ekor. Hitunglah jumlah ayam sebelumnya yang dimiliki peternak tersebut! (gunakan rumus deret geometri)\n",
    "\n",
    "> *note: SOAL DIATAS DIKERJAKAN SESUAI DENGAN RUMUS BAKU*"
   ]
  },
  {
   "cell_type": "code",
   "execution_count": 1,
   "metadata": {},
   "outputs": [
    {
     "name": "stdout",
     "output_type": "stream",
     "text": [
      "jumlah ayam hidup =  200\n",
      "jumlah ayam pada tahun 2015 =  800.0\n"
     ]
    }
   ],
   "source": [
    "ayam_hidup = 200\n",
    "#rumus geometri\n",
    "#Un = a*r**(n-1)\n",
    "#a = Un/(r**(n-1))\n",
    "a = 200/((1/2)**2)\n",
    "print(\"jumlah ayam hidup = \",ayam_hidup)\n",
    "print(\"jumlah ayam pada tahun 2015 = \",a)\n"
   ]
  },
  {
   "attachments": {},
   "cell_type": "markdown",
   "metadata": {},
   "source": [
    "## 3. "
   ]
  },
  {
   "attachments": {},
   "cell_type": "markdown",
   "metadata": {},
   "source": [
    "* **A** Hitunglah luas Prisma Segitiga dengan ketentuan sebagai berikut:\n",
    "    * Alas dan tutup prisma merupakan segitiga\n",
    "    * Terdapat 3 persegi panjang yang menyinggung alas dan tutup prisma\n",
    "    * Sisi persegi panjang yang menyinggung segitiga adalah sisi lebar\n",
    "```python\n",
    "    dictionary_figure = {\"Persegi\":{\"Sisi\":22},\n",
    "                        \"Persegi Panjang\":{\"Panjang\":10,\"Lebar\":5},\n",
    "                        \"Segitiga Sama Sisi\":{\"Sisi\":6,\"Tinggi\":3**(1/2) * 3},\n",
    "                        \"Lingkaran\":{\"Diameter\":7}}\n",
    "```\n",
    "* **B** Hitunglah luas Tabung dengan ketentuan sebagai berikut:\n",
    "    * Alas dan tutup tabung merupakan lingkaran\n",
    "    * Terdapat 1 persegi yang menyinggung alas dan tutup tabung\n",
    "    * Persegi yang ada mengelilingi lingkaran hingga sisi dari persegi saling bertemu\n",
    "\n",
    "> *note: Pada soal ini kalian hanya boleh menggunakan key-value pair dan index pada list. Tidak diperbolehkan menulis secara langsung dimensi dari figure*"
   ]
  },
  {
   "cell_type": "code",
   "execution_count": 13,
   "metadata": {},
   "outputs": [
    {
     "name": "stdout",
     "output_type": "stream",
     "text": [
      "Jadi Luas Permukaan Prisma adalah  171.65063509461098\n",
      "Jadi Luas Permukaan Tabung adalah  560.0504000000001\n"
     ]
    }
   ],
   "source": [
    "dictionary_figure = {\"Persegi\":{\"Sisi\":22},\n",
    "                     \"Persegi Panjang\":{\"Panjang\":10,\"Lebar\":5},\n",
    "                     \"Segitiga Sama Sisi\":{\"Sisi\":6,\"Tinggi\":3**(1/2) * 3},\n",
    "                     \"Lingkaran\":{\"Diameter\":7}}\n",
    "\n",
    "# A Luas prisma segitiga\n",
    "panjang = dictionary_figure[\"Persegi Panjang\"][\"Panjang\"]\n",
    "lebar = dictionary_figure[\"Persegi Panjang\"][\"Lebar\"]\n",
    "s = lebar \n",
    "Luas_Segitiga = (1/4*s**2)*(3**(1/2))\n",
    "Luas_Persegi_Panjang = panjang*lebar\n",
    "Luas_Permukaan_Prisma = 2*Luas_Segitiga + 3*Luas_Persegi_Panjang\n",
    "\n",
    "print('Jadi Luas Permukaan Prisma adalah ',Luas_Permukaan_Prisma)\n",
    "\n",
    "# B Luas permukaan tabung\n",
    "D = dictionary_figure[\"Lingkaran\"][\"Diameter\"]\n",
    "Keliling_Lingkaran = 3.14 * D\n",
    "Sisi = Keliling_Lingkaran\n",
    "Luas_Permukaan_Tabung = 2*3.14*(((1/2)*D)**2) + Sisi**2\n",
    "\n",
    "print('Jadi Luas Permukaan Tabung adalah ',Luas_Permukaan_Tabung)\n"
   ]
  }
 ],
 "metadata": {
  "kernelspec": {
   "display_name": "Python 3",
   "language": "python",
   "name": "python3"
  },
  "language_info": {
   "codemirror_mode": {
    "name": "ipython",
    "version": 3
   },
   "file_extension": ".py",
   "mimetype": "text/x-python",
   "name": "python",
   "nbconvert_exporter": "python",
   "pygments_lexer": "ipython3",
   "version": "3.10.7"
  },
  "orig_nbformat": 4,
  "vscode": {
   "interpreter": {
    "hash": "5addf786bcd861d1ce5006f23111f8cbb206731e5b61b0a5632ba9e0252558a8"
   }
  }
 },
 "nbformat": 4,
 "nbformat_minor": 2
}
