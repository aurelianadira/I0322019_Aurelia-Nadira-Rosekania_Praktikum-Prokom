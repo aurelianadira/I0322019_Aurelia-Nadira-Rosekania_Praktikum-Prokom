{
 "cells": [
  {
   "cell_type": "code",
   "execution_count": null,
   "metadata": {},
   "outputs": [],
   "source": [
    "#Buatlah sebuah fungsi untuk membuat matrix berdasarkan input dari user\n",
    "\n",
    "def create_matrix(baris,kolom):\n",
    "    matrix = [....]\n",
    "\n",
    "    #Tulis kode kamu disini\n",
    "\n",
    "\n",
    "    return matrix\n",
    "\n",
    "\n",
    "baris = int(input('Masukkan Jumlah Baris:\\t'))\n",
    "kolom = int(input('Masukkan Jumlah Kolom:\\t'))\n",
    "\n",
    "create_matrix(baris,kolom)"
   ]
  },
  {
   "cell_type": "code",
   "execution_count": null,
   "metadata": {},
   "outputs": [],
   "source": [
    "#Buatlah sebuah fungsi untuk menambah dua matrix berdasarkan input user\n",
    "\n",
    "def tambah_matrix(matrix1,matrix2):\n",
    "    tambah = []\n",
    "\n",
    "    #Tulis kode kamu disini\n",
    "\n",
    "\n",
    "    return tambah\n",
    "\n",
    "matrixA = []\n",
    "matrixB = []\n",
    "\n",
    "tambah_matrix(matrixA, matrixB)"
   ]
  },
  {
   "cell_type": "code",
   "execution_count": null,
   "metadata": {},
   "outputs": [],
   "source": [
    "#Buatlah fungsi untuk mengakalikan dua buah matrix berdasarkan input user\n",
    "\n",
    "def multiply_matrix(matrix1, matrix2):\n",
    "    result=[]\n",
    "\n",
    "    #Tulis kode kamu disini\n",
    "\n",
    "    return result\n",
    "\n",
    "\n",
    "matrix1 = [...]\n",
    "matrix2 = [...]\n",
    "\n",
    "multiply_matrix(matrix1, matrix2)"
   ]
  }
 ],
 "metadata": {
  "language_info": {
   "name": "python"
  },
  "orig_nbformat": 4
 },
 "nbformat": 4,
 "nbformat_minor": 2
}
