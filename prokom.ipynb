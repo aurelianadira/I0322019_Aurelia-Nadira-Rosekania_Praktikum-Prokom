{
 "cells": [
  {
   "cell_type": "code",
   "execution_count": 2,
   "metadata": {},
   "outputs": [
    {
     "name": "stdout",
     "output_type": "stream",
     "text": [
      "Jadi, volume balok adalah 24 cm^2\n"
     ]
    }
   ],
   "source": [
    "panjang = int(input(\"masukkan panjang\"))\n",
    "lebar = int(input(\"masukkan lebar\"))\n",
    "tinggi = int(input(\"masukkan tinggi\"))\n",
    "volume_balok = panjang*lebar*tinggi\n",
    "print(f\"Jadi, volume balok adalah {volume_balok} cm^2\")"
   ]
  },
  {
   "cell_type": "code",
   "execution_count": 3,
   "metadata": {},
   "outputs": [
    {
     "name": "stdout",
     "output_type": "stream",
     "text": [
      "[1, 2, 3]\n",
      "jarak rumah yang paling jauh adalah:3\n",
      "jarak rumah yang paling dekat adalah:1\n",
      "nilai dari mean adalah: 2.0\n"
     ]
    }
   ],
   "source": [
    "jarak_rumah = []\n",
    "nilai = input('Masukkan jarak rumahmu dan 2 temanmu ke kampus: ')\n",
    "jarak_rumah = nilai.split(',')\n",
    "\n",
    "angka_list = [int(nilai) for nilai in jarak_rumah]\n",
    "print(angka_list) \n",
    "\n",
    "#mencari nilai maksimal\n",
    "print(f'jarak rumah yang paling jauh adalah:{max(angka_list)}')\n",
    "print(f'jarak rumah yang paling dekat adalah:{min(angka_list)}')\n",
    "\n",
    "#mencari nilai mean/rata-rata\n",
    "mean = sum(angka_list)/len(angka_list)\n",
    "print(f'nilai dari mean adalah: {mean}')\n",
    "\n"
   ]
  },
  {
   "cell_type": "code",
   "execution_count": 5,
   "metadata": {},
   "outputs": [
    {
     "name": "stdout",
     "output_type": "stream",
     "text": [
      "['program.c', 'stdio.h', 'sample.h', 'a.out', 'math.h', 'hpp.out']\n"
     ]
    }
   ],
   "source": [
    "filenames = [\"program.c\", \"stdio.hpp\", \"sample.hpp\", \"a.out\", \"math.hpp\", \"hpp.out\"]\n",
    "newfilenames = [filename.replace(\".hpp\", \".h\") if filename.endswith(\".hpp\") else filename for filename in filenames]\n",
    "\n",
    "print(newfilenames)\n",
    "\n"
   ]
  },
  {
   "cell_type": "code",
   "execution_count": 6,
   "metadata": {},
   "outputs": [
    {
     "name": "stdout",
     "output_type": "stream",
     "text": [
      "Hello\n",
      "World \n",
      "HloWrd\n"
     ]
    }
   ],
   "source": [
    "string = \"Hello World \"\n",
    "print(string[0:5]) # Hello\n",
    "print(string[6:15]) # World\n",
    "print(string[0:11:2]) # HloWrd"
   ]
  },
  {
   "cell_type": "code",
   "execution_count": 9,
   "metadata": {},
   "outputs": [
    {
     "name": "stdout",
     "output_type": "stream",
     "text": [
      "True\n"
     ]
    }
   ],
   "source": [
    "#boolean\n",
    "boolean1 = \"10\" == \"10\"\n",
    "print(boolean1)"
   ]
  },
  {
   "cell_type": "code",
   "execution_count": 14,
   "metadata": {},
   "outputs": [
    {
     "name": "stdout",
     "output_type": "stream",
     "text": [
      "0b110\n"
     ]
    }
   ],
   "source": [
    "#Binary\n",
    "biner = bin(6)\n",
    "print(biner)"
   ]
  }
 ],
 "metadata": {
  "kernelspec": {
   "display_name": "Python 3",
   "language": "python",
   "name": "python3"
  },
  "language_info": {
   "codemirror_mode": {
    "name": "ipython",
    "version": 3
   },
   "file_extension": ".py",
   "mimetype": "text/x-python",
   "name": "python",
   "nbconvert_exporter": "python",
   "pygments_lexer": "ipython3",
   "version": "3.10.7"
  },
  "orig_nbformat": 4
 },
 "nbformat": 4,
 "nbformat_minor": 2
}
